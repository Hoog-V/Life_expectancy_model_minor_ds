{
 "cells": [
  {
   "cell_type": "markdown",
   "metadata": {},
   "source": [
    "# Dataset cleaning script\n",
    "\n",
    "Does few steps:\n",
    "\n",
    "1. Imports the CSV\n",
    "2. Removes the regions from dataset\n",
    "3. Moves format to long format, as we can easily drop missing (N/A) rows\n",
    "4. Get's the features to include into training\n",
    "5. Then creates dataset ready for training (with the dependent variable as index and independent variables as features)"
   ]
  },
  {
   "cell_type": "markdown",
   "metadata": {},
   "source": [
    "# 1 Import CSV (exported from Excel to CSV)"
   ]
  },
  {
   "cell_type": "code",
   "execution_count": 1,
   "metadata": {},
   "outputs": [],
   "source": [
    "import pandas as pd\n",
    "import statsmodels.api as sm\n",
    "import matplotlib.pyplot as plt\n",
    "\n",
    "file_path = \"WDIEXCEL.xlsx\"\n",
    "\n",
    "# Load the data from the CSV file\n",
    "data = pd.read_excel(file_path)"
   ]
  },
  {
   "cell_type": "markdown",
   "metadata": {},
   "source": [
    "# 2 Remove regions (and unused years from dataset)"
   ]
  },
  {
   "cell_type": "code",
   "execution_count": 2,
   "metadata": {},
   "outputs": [],
   "source": [
    "countries_to_keep = [\n",
    "  \"AFG\", \"ALB\", \"DZA\", \"AND\", \"AGO\", \"ATG\", \"ARG\", \"ARM\", \"AUS\", \"AUT\", \"AZE\", \"BHS\",\n",
    "  \"BHR\", \"BGD\", \"BRB\", \"BLR\", \"BEL\", \"BLZ\", \"BEN\", \"BTN\", \"BOL\", \"BIH\", \"BWA\", \"BRA\",\n",
    "  \"BRN\", \"BGR\", \"BFA\", \"BDI\", \"CPV\", \"KHM\", \"CMR\", \"CAN\", \"CAF\", \"TCD\", \"CHL\", \"CHN\",\n",
    "  \"COL\", \"COM\", \"COG\", \"COD\", \"CRI\", \"CIV\", \"HRV\", \"CUB\", \"CYP\", \"CZE\", \"DNK\", \"DJI\",\n",
    "  \"DMA\", \"DOM\", \"ECU\", \"EGY\", \"SLV\", \"GNQ\", \"ERI\", \"EST\", \"SWZ\", \"ETH\", \"FJI\", \"FIN\",\n",
    "  \"FRA\", \"GAB\", \"GMB\", \"GEO\", \"DEU\", \"GHA\", \"GRC\", \"GRD\", \"GTM\", \"GIN\", \"GNB\", \"GUY\",\n",
    "  \"HTI\", \"HND\", \"HUN\", \"ISL\", \"IND\", \"IDN\", \"IRN\", \"IRQ\", \"IRL\", \"ISR\", \"ITA\", \"JAM\",\n",
    "  \"JPN\", \"JOR\", \"KAZ\", \"KEN\", \"KIR\", \"PRK\", \"KOR\", \"KWT\", \"KGZ\", \"LAO\", \"LVA\", \"LBN\",\n",
    "  \"LSO\", \"LBR\", \"LBY\", \"LIE\", \"LTU\", \"LUX\", \"MDG\", \"MWI\", \"MYS\", \"MDV\", \"MLI\", \"MLT\",\n",
    "  \"MHL\", \"MRT\", \"MUS\", \"MEX\", \"FSM\", \"MDA\", \"MCO\", \"MNG\", \"MNE\", \"MAR\", \"MOZ\", \"MMR\",\n",
    "  \"NAM\", \"NRU\", \"NPL\", \"NLD\", \"NZL\", \"NIC\", \"NER\", \"NGA\", \"MKD\", \"NOR\", \"OMN\", \"PAK\",\n",
    "  \"PLW\", \"PAN\", \"PNG\", \"PRY\", \"PER\", \"PHL\", \"POL\", \"PRT\", \"QAT\", \"ROU\", \"RUS\", \"RWA\",\n",
    "  \"KNA\", \"LCA\", \"VCT\", \"WSM\", \"SMR\", \"STP\", \"SAU\", \"SEN\", \"SRB\", \"SYC\", \"SLE\", \"SGP\",\n",
    "  \"SVK\", \"SVN\", \"SLB\", \"SOM\", \"ZAF\", \"SSD\", \"ESP\", \"LKA\", \"SDN\", \"SUR\", \"SWE\", \"CHE\",\n",
    "  \"SYR\", \"TJK\", \"TZA\", \"THA\", \"TLS\", \"TGO\", \"TON\", \"TTO\", \"TUN\", \"TUR\", \"TKM\", \"TUV\",\n",
    "  \"UGA\", \"UKR\", \"ARE\", \"GBR\", \"USA\", \"URY\", \"UZB\", \"VUT\", \"VAT\", \"VEN\", \"VNM\", \"YEM\",\n",
    "  \"ZMB\", \"ZWE\"\n",
    "\n",
    "]\n",
    "\n",
    "# Generate year strings for the columns to drop (1960 untill 2000)\n",
    "years = [str(year) for year in range(1960, 2001)]\n",
    "\n",
    "# drop the Country Name, Indicator Name and years 1960-2000 columns\n",
    "preprocessed_data = data.drop(columns=[\"Country Name\", \"Indicator Name\"] + years)\n",
    "\n",
    "# drop the combined country data (world, asia, etc.)\n",
    "preprocessed_data = preprocessed_data[preprocessed_data[\"Country Code\"].isin(countries_to_keep)]"
   ]
  },
  {
   "cell_type": "markdown",
   "metadata": {},
   "source": [
    "# 3 Move format to long format (and drop N/A rows)"
   ]
  },
  {
   "cell_type": "code",
   "execution_count": 3,
   "metadata": {},
   "outputs": [],
   "source": [
    "long_formatted_data = preprocessed_data.melt(\n",
    "    id_vars=[\"Country Code\", \"Indicator Code\"],  # Columns to keep fixed\n",
    "    var_name=\"Year\",                             # Column name for years\n",
    "    value_name=\"Value\"                           # Column name for indicator values\n",
    ")\n",
    "long_formatted_data.dropna(inplace=True)"
   ]
  },
  {
   "cell_type": "markdown",
   "metadata": {},
   "source": [
    "# 4 Include features"
   ]
  },
  {
   "cell_type": "code",
   "execution_count": 41,
   "metadata": {},
   "outputs": [],
   "source": [
    "# Separate GDP and Life Expectancy into different columns\n",
    "long_formatted_data[\"Year\"] = long_formatted_data[\"Year\"].astype(int)  # Ensure Year is numeric\n",
    "\n",
    "# Get the GDP (still have to convert log to linear)\n",
    "gdp = long_formatted_data[long_formatted_data[\"Indicator Code\"] == \"NY.GDP.PCAP.CD\"].rename(columns={\"Value\": \"GDP\"})\n",
    "life_expectancy = long_formatted_data[long_formatted_data[\"Indicator Code\"] == \"SP.DYN.LE00.IN\"].rename(columns={\"Value\": \"Life Expectancy\"})\n",
    "underfivedeaths = long_formatted_data[long_formatted_data[\"Indicator Code\"] == \"SH.DYN.MORT\"].rename(columns={\"Value\": \"UnderFiveDeaths\"})\n",
    "adultmortality = long_formatted_data[long_formatted_data[\"Indicator Code\"] == \"SP.DYN.AMRT.MA\"].rename(columns={\"Value\": \"MortRateAdult\"})\n",
    "# alcohol = long_formatted_data[long_formatted_data[\"Indicator Code\"] == \"SH.ALC.PCAP.LI\"].rename(columns={\"Value\": \"Alcohol\"})\n",
    "anemia = long_formatted_data[long_formatted_data[\"Indicator Code\"] == \"SH.ANM.CHLD.ZS\"].rename(columns={\"Value\": \"AnemiaChild\"})\n",
    "healthexpenditure = long_formatted_data[long_formatted_data[\"Indicator Code\"] == \"SH.XPD.CHEX.PP.CD\"].rename(columns={\"Value\": \"HealthExpenditure\"})\n",
    "cleanfuels = long_formatted_data[long_formatted_data[\"Indicator Code\"] == \"EG.CFT.ACCS.ZS\"].rename(columns={\"Value\": \"CleanFuels\"})\n",
    "populationcount = long_formatted_data[long_formatted_data[\"Indicator Code\"] == \"SP.POP.TOTL\"].rename(columns={\"Value\": \"PopulationCount\"})\n",
    "basicsanitation = long_formatted_data[long_formatted_data[\"Indicator Code\"] == \"SH.STA.BASS.ZS\"].rename(columns={\"Value\": \"BasicSanitation\"})\n",
    "schoolenrollment = long_formatted_data[long_formatted_data[\"Indicator Code\"] == \"SE.SEC.NENR.MA\"].rename(columns={\"Value\": \"SchoolEnrollment\"})\n",
    "thinness = long_formatted_data[long_formatted_data[\"Indicator Code\"] == \"SN.ITK.DEFC.ZS\"].rename(columns={\"Value\": \"Thinness\"})\n",
    "features_data = pd.DataFrame()\n",
    "features_data = pd.merge(\n",
    "    gdp[[\"Country Code\", \"Year\", \"GDP\"]],\n",
    "    life_expectancy[[\"Country Code\", \"Year\", \"Life Expectancy\"]],\n",
    "    on=[\"Country Code\", \"Year\"]\n",
    ")\n",
    "\n",
    "features_data = pd.merge(\n",
    "     underfivedeaths[[\"Country Code\", \"Year\", \"UnderFiveDeaths\"]],\n",
    "     features_data,\n",
    "     on=[\"Country Code\", \"Year\"]\n",
    " )\n",
    "features_data = pd.merge(\n",
    "    healthexpenditure[[\"Country Code\", \"Year\", \"HealthExpenditure\"]],\n",
    "    features_data,\n",
    "    on=[\"Country Code\", \"Year\"]\n",
    ")\n",
    "features_data = pd.merge(\n",
    "    thinness[[\"Country Code\", \"Year\", \"Thinness\"]],\n",
    "    features_data,\n",
    "    on=[\"Country Code\", \"Year\"]\n",
    ")\n",
    "\n",
    "features_data = pd.merge(\n",
    "    adultmortality[[\"Country Code\", \"Year\", \"MortRateAdult\"]],\n",
    "    features_data,\n",
    "    on=[\"Country Code\", \"Year\"]\n",
    ")\n",
    "\n",
    "features_data = pd.merge(\n",
    "    cleanfuels[[\"Country Code\", \"Year\", \"CleanFuels\"]],\n",
    "    features_data,\n",
    "    on=[\"Country Code\", \"Year\"]\n",
    ")\n",
    "\n",
    "# features_data = pd.merge(\n",
    "#     anemia[[\"Country Code\", \"Year\", \"AnemiaChild\"]],\n",
    "#     features_data,\n",
    "#     on=[\"Country Code\", \"Year\"]\n",
    "# )\n",
    "\n",
    "features_data = pd.merge(\n",
    "    populationcount[[\"Country Code\", \"Year\", \"PopulationCount\"]],\n",
    "    features_data,\n",
    "    on=[\"Country Code\", \"Year\"]\n",
    ")\n",
    "\n",
    "features_data = pd.merge(\n",
    "    basicsanitation[[\"Country Code\", \"Year\", \"BasicSanitation\"]],\n",
    "    features_data,\n",
    "    on=[\"Country Code\", \"Year\"]\n",
    ")\n",
    "\n",
    "# features_data = pd.merge(\n",
    "#     schoolenrollment[[\"Country Code\", \"Year\", \"SchoolEnrollment\"]],\n",
    "#     features_data,\n",
    "#     on=[\"Country Code\", \"Year\"]\n",
    "# )"
   ]
  },
  {
   "cell_type": "markdown",
   "metadata": {},
   "source": [
    "## 4.5 Transform from log"
   ]
  },
  {
   "cell_type": "code",
   "execution_count": 42,
   "metadata": {},
   "outputs": [],
   "source": [
    "import numpy as np\n",
    "features_data[\"GDP\"] = np.log(features_data[\"GDP\"])\n",
    "features_data[\"CleanFuels\"] = np.log(features_data[\"CleanFuels\"])\n",
    "features_data[\"BasicSanitation\"] = np.log(features_data[\"BasicSanitation\"])"
   ]
  },
  {
   "cell_type": "markdown",
   "metadata": {},
   "source": [
    "# 5 Create dataset suitable for training\n",
    "\n",
    "Training datasets are normally formatted in a way were the index corresponds to the dependent variable."
   ]
  },
  {
   "cell_type": "code",
   "execution_count": 43,
   "metadata": {},
   "outputs": [
    {
     "name": "stdout",
     "output_type": "stream",
     "text": [
      "                       GDP  UnderFiveDeaths  MortRateAdult  CleanFuels  \\\n",
      "Life Expectancy                                                          \n",
      "75.639000         7.155911             25.8        109.086    3.713572   \n",
      "70.823000         7.469986             40.1        152.528    4.577799   \n",
      "46.590000         6.268081            198.9        481.080    3.706228   \n",
      "74.186000         8.877518             19.0        174.541    4.567468   \n",
      "70.932000         6.516415             29.2        218.454    4.415220   \n",
      "...                    ...              ...            ...         ...   \n",
      "76.980488        11.059246              6.3        162.991    4.605170   \n",
      "78.430000         9.658258              6.3        137.903    4.605170   \n",
      "70.331000         7.472676             14.7        211.749    4.421247   \n",
      "70.299000         7.978570             24.0        186.374    1.987874   \n",
      "75.378000         8.184889             20.9        163.167    4.550714   \n",
      "\n",
      "                 HealthExpenditure  PopulationCount  BasicSanitation  Thinness  \n",
      "Life Expectancy                                                                 \n",
      "75.639000               247.234911        3060173.0         4.500154       4.9  \n",
      "70.823000               339.481319       31200985.0         4.439823       8.0  \n",
      "46.590000               151.784359       16941587.0         3.366924      67.5  \n",
      "74.186000              1045.118602       37480493.0         4.474495       3.0  \n",
      "70.932000               135.516670        3133133.0         4.469649      26.1  \n",
      "...                            ...              ...              ...       ...  \n",
      "76.980488             11702.409074      331511512.0         4.601961       2.5  \n",
      "78.430000              2110.570933        3429086.0         4.585524       2.5  \n",
      "70.331000               532.826251       34232050.0         4.605170       2.5  \n",
      "70.299000               119.832104         311685.0         3.964749      11.9  \n",
      "75.378000               516.177331       96648685.0         4.491402       5.7  \n",
      "\n",
      "[2970 rows x 8 columns]\n"
     ]
    }
   ],
   "source": [
    "dataset_final = features_data.set_index(\"Life Expectancy\")\n",
    "\n",
    "# Step 5: Rearrange columns to include Country, GDP, and Year as features (for now, for the final set: Year and Country Code should be removed!)\n",
    "dataset_final = dataset_final[[\"GDP\", \"MortRateAdult\", \"CleanFuels\", \"HealthExpenditure\", \"PopulationCount\", \"BasicSanitation\", \"Thinness\"]]\t\t\n",
    "\n",
    "# Display the final dataset\n",
    "print(dataset_final)\n",
    "\n",
    "dataset_final.to_csv(\"final_dataset.csv\")"
   ]
  }
 ],
 "metadata": {
  "kernelspec": {
   "display_name": "base",
   "language": "python",
   "name": "python3"
  },
  "language_info": {
   "codemirror_mode": {
    "name": "ipython",
    "version": 3
   },
   "file_extension": ".py",
   "mimetype": "text/x-python",
   "name": "python",
   "nbconvert_exporter": "python",
   "pygments_lexer": "ipython3",
   "version": "3.10.15"
  }
 },
 "nbformat": 4,
 "nbformat_minor": 2
}
