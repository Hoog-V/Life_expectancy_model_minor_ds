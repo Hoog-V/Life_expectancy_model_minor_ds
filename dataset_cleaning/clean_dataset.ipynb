{
 "cells": [
  {
   "cell_type": "markdown",
   "metadata": {},
   "source": [
    "# Dataset cleaning script\n",
    "\n",
    "Does few steps:\n",
    "\n",
    "1. Imports the CSV\n",
    "2. Removes the regions from dataset\n",
    "3. Moves format to long format, as we can easily drop missing (N/A) rows\n",
    "4. Get's the features to include into training\n",
    "5. Then creates dataset ready for training (with the dependent variable as index and independent variables as features)"
   ]
  },
  {
   "cell_type": "markdown",
   "metadata": {},
   "source": [
    "# 1 Import CSV (exported from Excel to CSV)"
   ]
  },
  {
   "cell_type": "code",
   "execution_count": null,
   "metadata": {},
   "outputs": [],
   "source": [
    "import pandas as pd\n",
    "import statsmodels.api as sm\n",
    "import matplotlib.pyplot as plt\n",
    "\n",
    "file_path = \"WDIEXCEL.csv\"\n",
    "\n",
    "# Load the data from the CSV file\n",
    "data = pd.read_csv(file_path)"
   ]
  },
  {
   "cell_type": "markdown",
   "metadata": {},
   "source": [
    "# 2 Remove regions (and unused years from dataset)"
   ]
  },
  {
   "cell_type": "code",
   "execution_count": null,
   "metadata": {},
   "outputs": [],
   "source": [
    "countries_to_keep = [\n",
    "  \"AFG\", \"ALB\", \"DZA\", \"AND\", \"AGO\", \"ATG\", \"ARG\", \"ARM\", \"AUS\", \"AUT\", \"AZE\", \"BHS\",\n",
    "  \"BHR\", \"BGD\", \"BRB\", \"BLR\", \"BEL\", \"BLZ\", \"BEN\", \"BTN\", \"BOL\", \"BIH\", \"BWA\", \"BRA\",\n",
    "  \"BRN\", \"BGR\", \"BFA\", \"BDI\", \"CPV\", \"KHM\", \"CMR\", \"CAN\", \"CAF\", \"TCD\", \"CHL\", \"CHN\",\n",
    "  \"COL\", \"COM\", \"COG\", \"COD\", \"CRI\", \"CIV\", \"HRV\", \"CUB\", \"CYP\", \"CZE\", \"DNK\", \"DJI\",\n",
    "  \"DMA\", \"DOM\", \"ECU\", \"EGY\", \"SLV\", \"GNQ\", \"ERI\", \"EST\", \"SWZ\", \"ETH\", \"FJI\", \"FIN\",\n",
    "  \"FRA\", \"GAB\", \"GMB\", \"GEO\", \"DEU\", \"GHA\", \"GRC\", \"GRD\", \"GTM\", \"GIN\", \"GNB\", \"GUY\",\n",
    "  \"HTI\", \"HND\", \"HUN\", \"ISL\", \"IND\", \"IDN\", \"IRN\", \"IRQ\", \"IRL\", \"ISR\", \"ITA\", \"JAM\",\n",
    "  \"JPN\", \"JOR\", \"KAZ\", \"KEN\", \"KIR\", \"PRK\", \"KOR\", \"KWT\", \"KGZ\", \"LAO\", \"LVA\", \"LBN\",\n",
    "  \"LSO\", \"LBR\", \"LBY\", \"LIE\", \"LTU\", \"LUX\", \"MDG\", \"MWI\", \"MYS\", \"MDV\", \"MLI\", \"MLT\",\n",
    "  \"MHL\", \"MRT\", \"MUS\", \"MEX\", \"FSM\", \"MDA\", \"MCO\", \"MNG\", \"MNE\", \"MAR\", \"MOZ\", \"MMR\",\n",
    "  \"NAM\", \"NRU\", \"NPL\", \"NLD\", \"NZL\", \"NIC\", \"NER\", \"NGA\", \"MKD\", \"NOR\", \"OMN\", \"PAK\",\n",
    "  \"PLW\", \"PAN\", \"PNG\", \"PRY\", \"PER\", \"PHL\", \"POL\", \"PRT\", \"QAT\", \"ROU\", \"RUS\", \"RWA\",\n",
    "  \"KNA\", \"LCA\", \"VCT\", \"WSM\", \"SMR\", \"STP\", \"SAU\", \"SEN\", \"SRB\", \"SYC\", \"SLE\", \"SGP\",\n",
    "  \"SVK\", \"SVN\", \"SLB\", \"SOM\", \"ZAF\", \"SSD\", \"ESP\", \"LKA\", \"SDN\", \"SUR\", \"SWE\", \"CHE\",\n",
    "  \"SYR\", \"TJK\", \"TZA\", \"THA\", \"TLS\", \"TGO\", \"TON\", \"TTO\", \"TUN\", \"TUR\", \"TKM\", \"TUV\",\n",
    "  \"UGA\", \"UKR\", \"ARE\", \"GBR\", \"USA\", \"URY\", \"UZB\", \"VUT\", \"VAT\", \"VEN\", \"VNM\", \"YEM\",\n",
    "  \"ZMB\", \"ZWE\"\n",
    "\n",
    "]\n",
    "\n",
    "# Generate year strings for the columns to drop (1960 untill 2000)\n",
    "years = [str(year) for year in range(1960, 2001)]\n",
    "\n",
    "# drop the Country Name, Indicator Name and years 1960-2000 columns\n",
    "preprocessed_data = data.drop(columns=[\"Country Name\", \"Indicator Name\"] + years)\n",
    "\n",
    "# drop the combined country data (world, asia, etc.)\n",
    "preprocessed_data = preprocessed_data[preprocessed_data[\"Country Code\"].isin(countries_to_keep)]"
   ]
  },
  {
   "cell_type": "markdown",
   "metadata": {},
   "source": [
    "# 3 Move format to long format (and drop N/A rows)"
   ]
  },
  {
   "cell_type": "code",
   "execution_count": null,
   "metadata": {},
   "outputs": [],
   "source": [
    "long_formatted_data = preprocessed_data.melt(\n",
    "    id_vars=[\"Country Code\", \"Indicator Code\"],  # Columns to keep fixed\n",
    "    var_name=\"Year\",                             # Column name for years\n",
    "    value_name=\"Value\"                           # Column name for indicator values\n",
    ")\n",
    "long_formatted_data.dropna(inplace=True)"
   ]
  },
  {
   "cell_type": "markdown",
   "metadata": {},
   "source": [
    "# 4 Include features"
   ]
  },
  {
   "cell_type": "code",
   "execution_count": null,
   "metadata": {},
   "outputs": [],
   "source": [
    "# Separate GDP and Life Expectancy into different columns\n",
    "long_formatted_data[\"Year\"] = long_formatted_data[\"Year\"].astype(int)  # Ensure Year is numeric\n",
    "\n",
    "# Get the GDP (still have to convert log to linear)\n",
    "gdp = long_formatted_data[long_formatted_data[\"Indicator Code\"] == \"NY.GDP.PCAP.CD\"].rename(columns={\"Value\": \"GDP\"})\n",
    "life_expectancy = long_formatted_data[long_formatted_data[\"Indicator Code\"] == \"SP.DYN.LE00.IN\"].rename(columns={\"Value\": \"Life Expectancy\"})\n",
    "\n",
    "features_data = pd.merge(\n",
    "    gdp[[\"Country Code\", \"Year\", \"GDP\"]],\n",
    "    life_expectancy[[\"Country Code\", \"Year\", \"Life Expectancy\"]],\n",
    "    on=[\"Country Code\", \"Year\"]\n",
    ")"
   ]
  },
  {
   "cell_type": "markdown",
   "metadata": {},
   "source": [
    "# 5 Create dataset suitable for training\n",
    "\n",
    "Training datasets are normally formatted in a way were the index corresponds to the dependent variable."
   ]
  },
  {
   "cell_type": "code",
   "execution_count": null,
   "metadata": {},
   "outputs": [],
   "source": [
    "dataset_final = features_data.set_index(\"Life Expectancy\")\n",
    "\n",
    "# Step 5: Rearrange columns to include Country, GDP, and Year as features (for now, for the final set: Year and Country Code should be removed!)\n",
    "dataset_final = dataset_final[[\"Country Code\", \"GDP\", \"Year\"]]\n",
    "\n",
    "# Display the final dataset\n",
    "print(dataset_final)"
   ]
  }
 ],
 "metadata": {
  "kernelspec": {
   "display_name": "base",
   "language": "python",
   "name": "python3"
  },
  "language_info": {
   "codemirror_mode": {
    "name": "ipython",
    "version": 3
   },
   "file_extension": ".py",
   "mimetype": "text/x-python",
   "name": "python",
   "nbconvert_exporter": "python",
   "pygments_lexer": "ipython3",
   "version": "3.12.4"
  }
 },
 "nbformat": 4,
 "nbformat_minor": 2
}
