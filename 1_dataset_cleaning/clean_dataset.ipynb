{
 "cells": [
  {
   "cell_type": "markdown",
   "metadata": {},
   "source": [
    "# Dataset cleaning script\n",
    "\n",
    "Does few steps:\n",
    "\n",
    "1. Imports the CSV\n",
    "2. Removes the regions from dataset\n",
    "3. Moves format to long format, as we can easily drop missing (N/A) rows\n",
    "4. Get's the features to include into training\n",
    "5. Then creates dataset ready for training (with the dependent variable as index and independent variables as features)"
   ]
  },
  {
   "cell_type": "markdown",
   "metadata": {},
   "source": [
    "# 1 Import CSV (exported from Excel to CSV)"
   ]
  },
  {
   "cell_type": "code",
   "execution_count": 1,
   "metadata": {},
   "outputs": [],
   "source": [
    "import pandas as pd\n",
    "import statsmodels.api as sm\n",
    "import matplotlib.pyplot as plt\n",
    "\n",
    "file_path = \"WDIEXCEL.xlsx\"\n",
    "\n",
    "# Load the data from the CSV file\n",
    "data = pd.read_excel(file_path)\n"
   ]
  },
  {
   "cell_type": "code",
   "execution_count": 2,
   "metadata": {},
   "outputs": [],
   "source": [
    "# export time series name and code\n",
    "indicator_name_and_code = data[['Indicator Name', 'Indicator Code']].copy()\n",
    "\n",
    "indicator_name_and_code.drop_duplicates(inplace=True)\n",
    "indicator_name_and_code.to_csv('../2_correlation_tests/indicator_name_and_code.csv', index=False)"
   ]
  },
  {
   "cell_type": "markdown",
   "metadata": {},
   "source": [
    "# 2 Remove regions (and unused years from dataset)"
   ]
  },
  {
   "cell_type": "code",
   "execution_count": 3,
   "metadata": {},
   "outputs": [],
   "source": [
    "countries_to_keep = [\n",
    "  \"AFG\", \"ALB\", \"DZA\", \"AND\", \"AGO\", \"ATG\", \"ARG\", \"ARM\", \"AUS\", \"AUT\", \"AZE\", \"BHS\",\n",
    "  \"BHR\", \"BGD\", \"BRB\", \"BLR\", \"BEL\", \"BLZ\", \"BEN\", \"BTN\", \"BOL\", \"BIH\", \"BWA\", \"BRA\",\n",
    "  \"BRN\", \"BGR\", \"BFA\", \"BDI\", \"CPV\", \"KHM\", \"CMR\", \"CAN\", \"CAF\", \"TCD\", \"CHL\", \"CHN\",\n",
    "  \"COL\", \"COM\", \"COG\", \"COD\", \"CRI\", \"CIV\", \"HRV\", \"CUB\", \"CYP\", \"CZE\", \"DNK\", \"DJI\",\n",
    "  \"DMA\", \"DOM\", \"ECU\", \"EGY\", \"SLV\", \"GNQ\", \"ERI\", \"EST\", \"SWZ\", \"ETH\", \"FJI\", \"FIN\",\n",
    "  \"FRA\", \"GAB\", \"GMB\", \"GEO\", \"DEU\", \"GHA\", \"GRC\", \"GRD\", \"GTM\", \"GIN\", \"GNB\", \"GUY\",\n",
    "  \"HTI\", \"HND\", \"HUN\", \"ISL\", \"IND\", \"IDN\", \"IRN\", \"IRQ\", \"IRL\", \"ISR\", \"ITA\", \"JAM\",\n",
    "  \"JPN\", \"JOR\", \"KAZ\", \"KEN\", \"KIR\", \"PRK\", \"KOR\", \"KWT\", \"KGZ\", \"LAO\", \"LVA\", \"LBN\",\n",
    "  \"LSO\", \"LBR\", \"LBY\", \"LIE\", \"LTU\", \"LUX\", \"MDG\", \"MWI\", \"MYS\", \"MDV\", \"MLI\", \"MLT\",\n",
    "  \"MHL\", \"MRT\", \"MUS\", \"MEX\", \"FSM\", \"MDA\", \"MCO\", \"MNG\", \"MNE\", \"MAR\", \"MOZ\", \"MMR\",\n",
    "  \"NAM\", \"NRU\", \"NPL\", \"NLD\", \"NZL\", \"NIC\", \"NER\", \"NGA\", \"MKD\", \"NOR\", \"OMN\", \"PAK\",\n",
    "  \"PLW\", \"PAN\", \"PNG\", \"PRY\", \"PER\", \"PHL\", \"POL\", \"PRT\", \"QAT\", \"ROU\", \"RUS\", \"RWA\",\n",
    "  \"KNA\", \"LCA\", \"VCT\", \"WSM\", \"SMR\", \"STP\", \"SAU\", \"SEN\", \"SRB\", \"SYC\", \"SLE\", \"SGP\",\n",
    "  \"SVK\", \"SVN\", \"SLB\", \"SOM\", \"ZAF\", \"SSD\", \"ESP\", \"LKA\", \"SDN\", \"SUR\", \"SWE\", \"CHE\",\n",
    "  \"SYR\", \"TJK\", \"TZA\", \"THA\", \"TLS\", \"TGO\", \"TON\", \"TTO\", \"TUN\", \"TUR\", \"TKM\", \"TUV\",\n",
    "  \"UGA\", \"UKR\", \"ARE\", \"GBR\", \"USA\", \"URY\", \"UZB\", \"VUT\", \"VAT\", \"VEN\", \"VNM\", \"YEM\",\n",
    "  \"ZMB\", \"ZWE\"\n",
    "\n",
    "]\n",
    "\n",
    "# Generate year strings for the columns to drop (1960 untill 2000)\n",
    "years = [str(year) for year in range(1960, 2001)]\n",
    "\n",
    "# drop the Country Name, Indicator Name and years 1960-2000 columns\n",
    "preprocessed_data = data.drop(columns=[\"Country Name\", \"Indicator Name\"] + years)\n",
    "\n",
    "# drop the combined country data (world, asia, etc.)\n",
    "preprocessed_data = preprocessed_data[preprocessed_data[\"Country Code\"].isin(countries_to_keep)]"
   ]
  },
  {
   "cell_type": "markdown",
   "metadata": {},
   "source": [
    "# 3 Move format to long format (and drop N/A rows)"
   ]
  },
  {
   "cell_type": "code",
   "execution_count": 4,
   "metadata": {},
   "outputs": [],
   "source": [
    "long_formatted_data = preprocessed_data.melt(\n",
    "    id_vars=[\"Country Code\", \"Indicator Code\"],  # Columns to keep fixed\n",
    "    var_name=\"Year\",                             # Column name for years\n",
    "    value_name=\"Value\"                           # Column name for indicator values\n",
    ")\n",
    "long_formatted_data.dropna(inplace=True)\n",
    "long_formatted_data.to_csv(\"../2_correlation_tests/long_formatted_data.csv\", index=False)"
   ]
  },
  {
   "cell_type": "markdown",
   "metadata": {},
   "source": [
    "# 4 Include features"
   ]
  },
  {
   "cell_type": "code",
   "execution_count": 30,
   "metadata": {},
   "outputs": [],
   "source": [
    "# Separate GDP and Life Expectancy into different columns\n",
    "long_formatted_data[\"Year\"] = long_formatted_data[\"Year\"].astype(int)  # Ensure Year is numeric\n",
    "\n",
    "# Get the GDP (still have to convert log to linear)\n",
    "gdp = long_formatted_data[long_formatted_data[\"Indicator Code\"] == \"NY.GDP.PCAP.CD\"].rename(columns={\"Value\": \"GDP\"})\n",
    "life_expectancy = long_formatted_data[long_formatted_data[\"Indicator Code\"] == \"SP.DYN.LE00.IN\"].rename(columns={\"Value\": \"Life Expectancy\"})\n",
    "underfivedeaths = long_formatted_data[long_formatted_data[\"Indicator Code\"] == \"SH.DYN.MORT\"].rename(columns={\"Value\": \"UnderFiveDeaths\"})\n",
    "adultmortality = long_formatted_data[long_formatted_data[\"Indicator Code\"] == \"SP.DYN.AMRT.MA\"].rename(columns={\"Value\": \"MortRateAdult\"})\n",
    "accessElectricity = long_formatted_data[long_formatted_data[\"Indicator Code\"] == \"EG.ELC.ACCS.RU.ZS\"].rename(columns={\"Value\": \"AccessElectricityRural\"})\n",
    "cleanfuels = long_formatted_data[long_formatted_data[\"Indicator Code\"] == \"EG.CFT.ACCS.ZS\"].rename(columns={\"Value\": \"CleanFuels\"})\n",
    "birthrate = long_formatted_data[long_formatted_data[\"Indicator Code\"] == \"SP.DYN.TFRT.IN\"].rename(columns={\"Value\": \"FertilityRate\"})\n",
    "basicsanitation = long_formatted_data[long_formatted_data[\"Indicator Code\"] == \"SH.STA.BASS.ZS\"].rename(columns={\"Value\": \"BasicSanitation\"})\n",
    "healthexpenditure = long_formatted_data[long_formatted_data[\"Indicator Code\"] == \"SH.XPD.CHEX.PC.CD\"].rename(columns={\"Value\": \"HealthExpenditure\"})\n",
    "\n",
    "features_data = pd.DataFrame()\n",
    "features_data = pd.merge(\n",
    "    gdp[[\"Country Code\", \"Year\", \"GDP\"]],\n",
    "    life_expectancy[[\"Country Code\", \"Year\", \"Life Expectancy\"]],\n",
    "    on=[\"Country Code\", \"Year\"]\n",
    ")\n",
    "\n",
    "features_data = pd.merge(\n",
    "     underfivedeaths[[\"Country Code\", \"Year\", \"UnderFiveDeaths\"]],\n",
    "     features_data,\n",
    "     on=[\"Country Code\", \"Year\"]\n",
    " )\n",
    "features_data = pd.merge(\n",
    "    adultmortality[[\"Country Code\", \"Year\", \"MortRateAdult\"]],\n",
    "    features_data,\n",
    "    on=[\"Country Code\", \"Year\"]\n",
    ")\n",
    "features_data = pd.merge(\n",
    "    healthexpenditure[[\"Country Code\", \"Year\", \"HealthExpenditure\"]],\n",
    "    features_data,\n",
    "    on=[\"Country Code\", \"Year\"]\n",
    ")\n",
    "\n",
    "features_data = pd.merge(\n",
    "    cleanfuels[[\"Country Code\", \"Year\", \"CleanFuels\"]],\n",
    "    features_data,\n",
    "    on=[\"Country Code\", \"Year\"]\n",
    ")\n",
    "\n",
    "features_data = pd.merge(\n",
    "    birthrate[[\"Country Code\", \"Year\", \"FertilityRate\"]],\n",
    "    features_data,\n",
    "    on=[\"Country Code\", \"Year\"]\n",
    ")\n",
    "\n",
    "features_data = pd.merge(\n",
    "    accessElectricity[[\"Country Code\", \"Year\", \"AccessElectricityRural\"]],\n",
    "    features_data,\n",
    "    on=[\"Country Code\", \"Year\"]\n",
    ")\n",
    "\n",
    "features_data = pd.merge(\n",
    "    basicsanitation[[\"Country Code\", \"Year\", \"BasicSanitation\"]],\n",
    "    features_data,\n",
    "    on=[\"Country Code\", \"Year\"]\n",
    ")\n"
   ]
  },
  {
   "cell_type": "markdown",
   "metadata": {},
   "source": [
    "## 4.5 Transform from log"
   ]
  },
  {
   "cell_type": "code",
   "execution_count": 31,
   "metadata": {},
   "outputs": [],
   "source": [
    "import numpy as np\n",
    "features_data[\"GDP\"] = np.log(features_data[\"GDP\"])\n",
    "features_data[\"MortRateAdult\"] = np.log(features_data[\"MortRateAdult\"])\n",
    "features_data[\"AccessElectricityRural\"] = np.log(features_data[\"AccessElectricityRural\"])\n",
    "features_data[\"CleanFuels\"] = np.log(features_data[\"CleanFuels\"])\n",
    "features_data[\"HealthExpenditure\"] = np.log(features_data[\"HealthExpenditure\"])"
   ]
  },
  {
   "cell_type": "markdown",
   "metadata": {},
   "source": [
    "# 5 Create dataset suitable for training\n",
    "\n",
    "Training datasets are normally formatted in a way were the index corresponds to the dependent variable."
   ]
  },
  {
   "cell_type": "code",
   "execution_count": 32,
   "metadata": {},
   "outputs": [
    {
     "name": "stdout",
     "output_type": "stream",
     "text": [
      "                      GDP  MortRateAdult  CleanFuels  UnderFiveDeaths  \\\n",
      "Life Expectancy                                                         \n",
      "75.639           7.155911       4.692137    3.713572             25.8   \n",
      "70.823           7.469986       5.027348    4.577799             40.1   \n",
      "46.590           6.268081       6.176034    3.706228            198.9   \n",
      "75.078           9.259410       5.050234    4.605170             15.1   \n",
      "74.186           8.877518       5.162160    4.567468             19.0   \n",
      "...                   ...            ...         ...              ...   \n",
      "70.331           7.472676       5.355402    4.421247             14.7   \n",
      "70.299           7.978570       5.227755    1.987874             24.0   \n",
      "75.378           8.184889       5.094774    4.550714             20.9   \n",
      "62.380           6.863628       5.808347    2.388763             59.7   \n",
      "61.124           7.224532       6.022593    3.411148             51.8   \n",
      "\n",
      "                 FertilityRate  BasicSanitation  AccessElectricityRural  \\\n",
      "Life Expectancy                                                           \n",
      "75.639                   2.150        90.030956                4.605170   \n",
      "70.823                   2.507        84.759924                4.579088   \n",
      "46.590                   6.601        28.989223                2.248876   \n",
      "75.078                   2.018        82.801229                4.571605   \n",
      "74.186                   2.531        87.750306                4.484569   \n",
      "...                        ...              ...                     ...   \n",
      "70.331                   2.904       100.000000                4.605170   \n",
      "70.299                   3.778        52.707045                4.052409   \n",
      "75.378                   1.955        89.246477                4.602571   \n",
      "62.380                   4.379        31.899633                2.636996   \n",
      "61.124                   3.545        35.192363                3.612545   \n",
      "\n",
      "                 HealthExpenditure  \n",
      "Life Expectancy                     \n",
      "75.639                    4.301205  \n",
      "70.823                    4.209732  \n",
      "46.590                    3.364714  \n",
      "75.078                    6.347585  \n",
      "74.186                    6.509318  \n",
      "...                            ...  \n",
      "70.331                    4.791687  \n",
      "70.299                    4.738211  \n",
      "75.378                    5.113383  \n",
      "62.380                    3.984412  \n",
      "61.124                    3.925462  \n",
      "\n",
      "[3315 rows x 8 columns]\n"
     ]
    }
   ],
   "source": [
    "dataset_final = features_data.set_index(\"Life Expectancy\")\n",
    "\n",
    "# Step 5: Rearrange columns to include Country, GDP, and Year as features (for now, for the final set: Year and Country Code should be removed!)\n",
    "dataset_final = dataset_final[[\"GDP\", \"MortRateAdult\", \"CleanFuels\", \"UnderFiveDeaths\", \"FertilityRate\", \"BasicSanitation\", \"AccessElectricityRural\", \"HealthExpenditure\"]]\t\t\n",
    "\n",
    "# Display the final dataset\n",
    "print(dataset_final)\n",
    "\n",
    "dataset_final.to_csv(\"../3_training/final_dataset.csv\")"
   ]
  }
 ],
 "metadata": {
  "kernelspec": {
   "display_name": ".venv",
   "language": "python",
   "name": "python3"
  },
  "language_info": {
   "codemirror_mode": {
    "name": "ipython",
    "version": 3
   },
   "file_extension": ".py",
   "mimetype": "text/x-python",
   "name": "python",
   "nbconvert_exporter": "python",
   "pygments_lexer": "ipython3",
   "version": "3.13.1"
  }
 },
 "nbformat": 4,
 "nbformat_minor": 2
}
